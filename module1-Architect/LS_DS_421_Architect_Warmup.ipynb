{
 "cells": [
  {
   "cell_type": "markdown",
   "metadata": {},
   "source": [
    "# Foundational Components of Neural Networks\n",
    "## Objective 01 - describe the foundational components of a neural network"
   ]
  },
  {
   "cell_type": "markdown",
   "metadata": {},
   "source": [
    "### Activation Function"
   ]
  },
  {
   "cell_type": "code",
   "execution_count": 8,
   "metadata": {},
   "outputs": [
    {
     "data": {
      "image/png": "[encoded data removed]",
      "text/plain": [
       "<Figure size 432x288 with 1 Axes>"
      ]
     },
     "metadata": {
      "needs_background": "light"
     },
     "output_type": "display_data"
    }
   ],
   "source": [
    "%matplotlib inline\n",
    "\n",
    "import matplotlib\n",
    "import numpy as np\n",
    "import matplotlib.pyplot as plt\n",
    "\n",
    "# Define the activation function\n",
    "unit_step = lambda x: 0 if x < 0 else 1\n",
    "\n",
    "# Vectorize the function (use on an array)\n",
    "unit_step_v = np.vectorize(unit_step)\n",
    "\n",
    "# Create arrays to plot\n",
    "x = np.arange(-5, 5, 0.1)\n",
    "y = unit_step_v(x)\n",
    "\n",
    "# Plot\n",
    "plt.plot(x, y)\n",
    "plt.xlabel('input'); plt.ylabel('step function output');\n",
    "\n",
    "# plt.clf() # comment/delete to show plot"
   ]
  },
  {
   "cell_type": "code",
   "execution_count": 9,
   "metadata": {},
   "outputs": [],
   "source": [
    "# Data ('OR' gate)\n",
    "# tuple format: ([x1, x2, bias], expected)\n",
    "training_data = [\n",
    "    (np.array([0,0,1]), 0),\n",
    "    (np.array([0,1,1]), 1),\n",
    "    (np.array([1,0,1]), 1),\n",
    "    (np.array([1,1,1]), 1),\n",
    "]"
   ]
  },
  {
   "cell_type": "code",
   "execution_count": 10,
   "metadata": {},
   "outputs": [
    {
     "name": "stdout",
     "output_type": "stream",
     "text": [
      "[0 0]: -0.09118480172102589 -> 0\n",
      "[0 1]: 0.6166684694000395 -> 1\n",
      "[1 0]: 0.4204778975910796 -> 1\n",
      "[1 1]: 1.1283311687121451 -> 1\n"
     ]
    }
   ],
   "source": [
    "# Perceptron code follows the example here, with\n",
    "# some modifications: \n",
    "# https://blog.dbrgn.ch/2013/3/26/perceptrons-in-python/\n",
    "\n",
    "# Imports\n",
    "#for random input selection\n",
    "from random import choice \n",
    "\n",
    "# Weights (begin with random weights)\n",
    "w = np.random.rand(3)\n",
    "\n",
    "# Errors (store for plotting)\n",
    "errors = []\n",
    "\n",
    "# Learning rate (the size of \"jumps\" when updating the weights)\n",
    "learn_rate = 0.2\n",
    "\n",
    "# Number of iterations/weight updates\n",
    "n = 50\n",
    "\n",
    "# \"Learning\" loop\n",
    "for i in range(n):\n",
    "\n",
    "    # Select a random item from the training data\n",
    "    x, expected = choice(training_data)\n",
    "\n",
    "    # Neuron calculation (dot product of weights and input)\n",
    "    result = np.dot(w, x)\n",
    "\n",
    "    # Compare to the expected result\n",
    "    error = expected - unit_step(result)\n",
    "    errors.append(error)\n",
    "\n",
    "    # Update the weights\n",
    "    w += learn_rate * error * x\n",
    "\n",
    "# Test the perceptron with the \"learned\" weights\n",
    "for x, _ in training_data:\n",
    "    result = np.dot(x, w)\n",
    "    print(\"{}: {} -> {}\".format(x[:2], result, unit_step(result)))"
   ]
  },
  {
   "cell_type": "code",
   "execution_count": null,
   "metadata": {},
   "outputs": [],
   "source": []
  }
 ],
 "metadata": {
  "kernelspec": {
   "display_name": "U4-S2-NN",
   "language": "python",
   "name": "u4-s2-nn"
  },
  "language_info": {
   "codemirror_mode": {
    "name": "ipython",
    "version": 3
   },
   "file_extension": ".py",
   "mimetype": "text/x-python",
   "name": "python",
   "nbconvert_exporter": "python",
   "pygments_lexer": "ipython3",
   "version": "3.7.0"
  }
 },
 "nbformat": 4,
 "nbformat_minor": 4
}
