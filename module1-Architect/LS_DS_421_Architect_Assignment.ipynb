{
 "cells": [
  {
   "cell_type": "markdown",
   "metadata": {
    "colab_type": "text",
    "id": "ObyHCH8HvHSf"
   },
   "source": [
    "<img align=\"left\" src=\"https://lever-client-logos.s3.amazonaws.com/864372b1-534c-480e-acd5-9711f850815c-1524247202159.png\" width=200>\n",
    "<br></br>\n",
    "<br></br>\n",
    "\n",
    "# *Data Science Unit 4 Sprint 2 Assignment 1*\n",
    "\n",
    "Use TensorFlow Keras & a sample of the [Quickdraw dataset](https://github.com/googlecreativelab/quickdraw-dataset) to build a sketch classification model. The dataset has been sampled to only 10 classes and 10000 observations per class. Please build a baseline classification model then run a few experiments with different optimizers and learning rates. \n",
    "\n",
    "*Don't forgot to switch to GPU on Colab!*"
   ]
  },
  {
   "cell_type": "markdown",
   "metadata": {
    "colab_type": "text",
    "id": "s-Tc3ovEyQ9b"
   },
   "source": [
    "## Load Your Data"
   ]
  },
  {
   "cell_type": "code",
   "execution_count": 1,
   "metadata": {
    "colab": {},
    "colab_type": "code",
    "id": "CkU0pAYCvU8o"
   },
   "outputs": [
    {
     "name": "stderr",
     "output_type": "stream",
     "text": [
      "C:\\Users\\admca\\anaconda3\\envs\\U4-S2-NN\\lib\\site-packages\\requests\\__init__.py:91: RequestsDependencyWarning: urllib3 (1.26.0) or chardet (3.0.4) doesn't match a supported version!\n",
      "  RequestsDependencyWarning)\n"
     ]
    },
    {
     "name": "stdout",
     "output_type": "stream",
     "text": [
      "(100000, 784)\n",
      "(100000,)\n"
     ]
    }
   ],
   "source": [
    "import numpy as np\n",
    "import tensorflow as tf \n",
    "\n",
    "data = np.load('../quickdraw10.npz')\n",
    "X = data['arr_0']\n",
    "y = data['arr_1']\n",
    "\n",
    "print(X.shape)\n",
    "print(y.shape)"
   ]
  },
  {
   "cell_type": "code",
   "execution_count": 2,
   "metadata": {
    "colab": {},
    "colab_type": "code",
    "id": "c8qsDqdqvHDd"
   },
   "outputs": [],
   "source": [
    "class_names = ['apple',\n",
    " 'anvil',\n",
    " 'airplane',\n",
    " 'banana',\n",
    " 'The Eiffel Tower',\n",
    " 'The Mona Lisa',\n",
    " 'The Great Wall of China',\n",
    " 'alarm clock',\n",
    " 'ant',\n",
    " 'asparagus']"
   ]
  },
  {
   "cell_type": "code",
   "execution_count": 3,
   "metadata": {
    "colab": {},
    "colab_type": "code",
    "id": "Owbm1EbxvA5A"
   },
   "outputs": [
    {
     "data": {
      "image/png": "[encoded data removed]",
      "text/plain": [
       "<Figure size 720x360 with 10 Axes>"
      ]
     },
     "metadata": {},
     "output_type": "display_data"
    }
   ],
   "source": [
    "import matplotlib.pyplot as plt\n",
    "plt.figure(figsize=(10,5))\n",
    "start = 0\n",
    "\n",
    "for num, name in enumerate(class_names):\n",
    "    plt.subplot(2,5, num+1)\n",
    "    plt.xticks([])\n",
    "    plt.yticks([])\n",
    "    plt.grid(False)\n",
    "    plt.imshow(X[start].reshape(28,28), cmap=plt.cm.binary)\n",
    "    plt.xlabel(name)\n",
    "    start += 10000\n",
    "plt.show()"
   ]
  },
  {
   "cell_type": "code",
   "execution_count": 4,
   "metadata": {
    "colab": {},
    "colab_type": "code",
    "id": "c97_M1WNvTNY"
   },
   "outputs": [],
   "source": [
    "# Need this line to randomly shuffle both the X & y at the same time.\n",
    "\n",
    "from sklearn.utils import shuffle\n",
    "X, y = shuffle(X, y)"
   ]
  },
  {
   "cell_type": "markdown",
   "metadata": {
    "colab_type": "text",
    "id": "jb70CbLVyK65"
   },
   "source": [
    "## Build Your Baseline Model\n",
    "Some Hints:\n",
    "\n",
    "\n",
    "*  Model should have 784 input values (like mnist)\n",
    "*  Use `sparse_categorical_crossentropy` as your loss function.\n",
    "* You need 10 neurons in your last layer for output\n",
    "* You can add as many hidden layers with as many neurons in them as you like. \n",
    "* Limit your model epochs to 30 each time you fit.\n",
    "* You can use the `validation_split` command to automatically create a training / validation dataset.  Specify a percentage such as .2 in your fit statement. \n",
    "\n"
   ]
  },
  {
   "cell_type": "code",
   "execution_count": 5,
   "metadata": {},
   "outputs": [
    {
     "data": {
      "text/plain": [
       "(100000, 784)"
      ]
     },
     "execution_count": 5,
     "metadata": {},
     "output_type": "execute_result"
    }
   ],
   "source": [
    "X.shape"
   ]
  },
  {
   "cell_type": "code",
   "execution_count": 26,
   "metadata": {
    "colab": {},
    "colab_type": "code",
    "id": "zHWblzsMyNkU"
   },
   "outputs": [
    {
     "name": "stdout",
     "output_type": "stream",
     "text": [
      "Epoch 1/30\n",
      "2500/2500 [==============================] - 5s 2ms/step - loss: 1.9901 - accuracy: 0.6270 - val_loss: 0.8904 - val_accuracy: 0.7332\n",
      "Epoch 2/30\n",
      "2500/2500 [==============================] - 4s 2ms/step - loss: 0.7943 - accuracy: 0.7621 - val_loss: 0.7405 - val_accuracy: 0.7834\n",
      "Epoch 3/30\n",
      "2500/2500 [==============================] - 4s 2ms/step - loss: 0.7100 - accuracy: 0.7901 - val_loss: 0.6875 - val_accuracy: 0.7919\n",
      "Epoch 4/30\n",
      "2500/2500 [==============================] - 4s 2ms/step - loss: 0.6623 - accuracy: 0.8027 - val_loss: 0.6530 - val_accuracy: 0.8019\n",
      "Epoch 5/30\n",
      "2500/2500 [==============================] - 4s 2ms/step - loss: 0.6281 - accuracy: 0.8122 - val_loss: 0.6757 - val_accuracy: 0.7929\n",
      "Epoch 6/30\n",
      "2500/2500 [==============================] - 4s 2ms/step - loss: 0.6045 - accuracy: 0.8182 - val_loss: 0.6478 - val_accuracy: 0.8125\n",
      "Epoch 7/30\n",
      "2500/2500 [==============================] - 4s 2ms/step - loss: 0.5914 - accuracy: 0.8229 - val_loss: 0.6334 - val_accuracy: 0.8128\n",
      "Epoch 8/30\n",
      "2500/2500 [==============================] - 4s 2ms/step - loss: 0.5768 - accuracy: 0.8268 - val_loss: 0.6330 - val_accuracy: 0.8138\n",
      "Epoch 9/30\n",
      "2500/2500 [==============================] - 4s 2ms/step - loss: 0.5660 - accuracy: 0.8307 - val_loss: 0.6405 - val_accuracy: 0.8140\n",
      "Epoch 10/30\n",
      "2500/2500 [==============================] - 5s 2ms/step - loss: 0.5562 - accuracy: 0.8329 - val_loss: 0.6240 - val_accuracy: 0.8182\n",
      "Epoch 11/30\n",
      "2500/2500 [==============================] - 4s 2ms/step - loss: 0.5497 - accuracy: 0.8343 - val_loss: 0.6251 - val_accuracy: 0.8171\n",
      "Epoch 12/30\n",
      "2500/2500 [==============================] - 4s 2ms/step - loss: 0.5381 - accuracy: 0.8381 - val_loss: 0.6313 - val_accuracy: 0.8127\n",
      "Epoch 13/30\n",
      "2500/2500 [==============================] - 4s 2ms/step - loss: 0.5285 - accuracy: 0.8408 - val_loss: 0.6319 - val_accuracy: 0.8170\n",
      "Epoch 14/30\n",
      "2500/2500 [==============================] - 4s 2ms/step - loss: 0.5259 - accuracy: 0.8419 - val_loss: 0.6296 - val_accuracy: 0.8199\n",
      "Epoch 15/30\n",
      "2500/2500 [==============================] - 4s 2ms/step - loss: 0.5167 - accuracy: 0.8449 - val_loss: 0.6293 - val_accuracy: 0.8227\n",
      "Epoch 16/30\n",
      "2500/2500 [==============================] - 4s 2ms/step - loss: 0.5117 - accuracy: 0.8457 - val_loss: 0.6367 - val_accuracy: 0.8199\n",
      "Epoch 17/30\n",
      "2500/2500 [==============================] - 4s 2ms/step - loss: 0.5056 - accuracy: 0.8482 - val_loss: 0.6745 - val_accuracy: 0.8192\n",
      "Epoch 18/30\n",
      "2500/2500 [==============================] - 4s 2ms/step - loss: 0.4988 - accuracy: 0.8498 - val_loss: 0.6544 - val_accuracy: 0.8202\n",
      "Epoch 19/30\n",
      "2500/2500 [==============================] - 4s 2ms/step - loss: 0.4975 - accuracy: 0.8510 - val_loss: 0.6564 - val_accuracy: 0.8187\n",
      "Epoch 20/30\n",
      "2500/2500 [==============================] - 4s 2ms/step - loss: 0.4943 - accuracy: 0.8514 - val_loss: 0.6661 - val_accuracy: 0.8133\n",
      "Epoch 21/30\n",
      "2500/2500 [==============================] - 4s 2ms/step - loss: 0.4848 - accuracy: 0.8534 - val_loss: 0.6811 - val_accuracy: 0.8191\n",
      "Epoch 22/30\n",
      "2500/2500 [==============================] - 4s 2ms/step - loss: 0.4849 - accuracy: 0.8550 - val_loss: 0.6613 - val_accuracy: 0.8231\n",
      "Epoch 23/30\n",
      "2500/2500 [==============================] - 4s 2ms/step - loss: 0.4821 - accuracy: 0.8543 - val_loss: 0.6704 - val_accuracy: 0.8156\n",
      "Epoch 24/30\n",
      "2500/2500 [==============================] - 4s 2ms/step - loss: 0.4779 - accuracy: 0.8560 - val_loss: 0.6677 - val_accuracy: 0.8228\n",
      "Epoch 25/30\n",
      "2500/2500 [==============================] - 5s 2ms/step - loss: 0.4728 - accuracy: 0.8581 - val_loss: 0.6891 - val_accuracy: 0.8192\n",
      "Epoch 26/30\n",
      "2500/2500 [==============================] - 5s 2ms/step - loss: 0.4716 - accuracy: 0.8576 - val_loss: 0.6642 - val_accuracy: 0.8183\n",
      "Epoch 27/30\n",
      "2500/2500 [==============================] - 4s 2ms/step - loss: 0.4680 - accuracy: 0.8593 - val_loss: 0.6896 - val_accuracy: 0.8209\n",
      "Epoch 28/30\n",
      "2500/2500 [==============================] - 4s 2ms/step - loss: 0.4650 - accuracy: 0.8604 - val_loss: 0.6973 - val_accuracy: 0.8172\n",
      "Epoch 29/30\n",
      "2500/2500 [==============================] - 4s 2ms/step - loss: 0.4612 - accuracy: 0.8615 - val_loss: 0.7018 - val_accuracy: 0.8222\n",
      "Epoch 30/30\n",
      "2500/2500 [==============================] - 4s 2ms/step - loss: 0.4590 - accuracy: 0.8622 - val_loss: 0.6978 - val_accuracy: 0.8202\n",
      "Model: \"sequential_8\"\n",
      "_________________________________________________________________\n",
      "Layer (type)                 Output Shape              Param #   \n",
      "=================================================================\n",
      "dense_26 (Dense)             (32, 64)                  50240     \n",
      "_________________________________________________________________\n",
      "dense_27 (Dense)             (32, 32)                  2080      \n",
      "_________________________________________________________________\n",
      "dense_28 (Dense)             (32, 10)                  330       \n",
      "=================================================================\n",
      "Total params: 52,650\n",
      "Trainable params: 52,650\n",
      "Non-trainable params: 0\n",
      "_________________________________________________________________\n"
     ]
    }
   ],
   "source": [
    "from tensorflow.keras.models import Sequential\n",
    "from tensorflow.keras.layers import Dense, Flatten\n",
    "from tensorflow.keras.optimizers import SGD, Adam\n",
    "import tensorflow as tf\n",
    "\n",
    "units = len(class_names)\n",
    "epochs = 30\n",
    "# sgd = SGD()\n",
    "adam = Adam()\n",
    "\n",
    "baseline = Sequential([\n",
    "    Dense(64, activation='relu'),\n",
    "    Dense(32, activation='relu'),\n",
    "    Dense(units=units, activation='softmax')\n",
    "])\n",
    "\n",
    "baseline.compile(loss=\"sparse_categorical_crossentropy\", optimizer=adam, metrics=['accuracy'])\n",
    "baseline.fit(X, y, validation_split=0.2, epochs=epochs)\n",
    "baseline.summary()"
   ]
  },
  {
   "cell_type": "markdown",
   "metadata": {
    "colab_type": "text",
    "id": "b0QJURWh-9uv"
   },
   "source": [
    "### Visualize the results\n",
    "\n",
    "Create charts for both loss and accuracy by epoch. Use line graphs for both charts. Analyze the results. \n",
    "\n",
    "At what point should we have stopped training the model and why? "
   ]
  },
  {
   "cell_type": "code",
   "execution_count": 27,
   "metadata": {
    "colab": {},
    "colab_type": "code",
    "id": "ijAlzfYKAFaY"
   },
   "outputs": [
    {
     "data": {
      "image/png": "[encoded data removed]",
      "text/plain": [
       "<Figure size 432x288 with 1 Axes>"
      ]
     },
     "metadata": {
      "needs_background": "light"
     },
     "output_type": "display_data"
    }
   ],
   "source": [
    "import seaborn as sns\n",
    "import pandas as pd\n",
    "\n",
    "df = pd.DataFrame.from_records(baseline.history.history)\n",
    "df['epoch'] = [i for i in range(df.shape[0])]\n",
    "\n",
    "ax = sns.lineplot(x='epoch', y='val_loss', data=df)\n",
    "ax = sns.lineplot(x='epoch', y='loss', data=df);"
   ]
  },
  {
   "cell_type": "markdown",
   "metadata": {},
   "source": [
    "No significant drop in the validation loss occurs after 10 epochs, which appears to be a reasonable point at which to stop training the model."
   ]
  },
  {
   "cell_type": "markdown",
   "metadata": {
    "colab_type": "text",
    "id": "MAhBrcE4yOZe"
   },
   "source": [
    "## Change Optimizers\n",
    "Try using the keras `adam` optimizer instead of `sgd` in your model. Visualize the difference in validation loss between the models with different optimizers. "
   ]
  },
  {
   "cell_type": "code",
   "execution_count": null,
   "metadata": {
    "colab": {},
    "colab_type": "code",
    "id": "jIW_spOZ0cxy"
   },
   "outputs": [],
   "source": [
    "from tf.keras.optimizers import Adam\n",
    "\n",
    "adam = Adam()\n",
    "\n",
    "baseline = Sequential([\n",
    "    Dense(64, activation='relu'),\n",
    "    Dense(32, activation='relu'),\n",
    "    Dense(units=units, activation='softmax')\n",
    "])\n",
    "\n",
    "baseline.compile(loss=\"sparse_categorical_crossentropy\", optimizer=adam, metrics=['accuracy'])\n",
    "baseline.fit(X, y, validation_split=0.2, epochs=epochs)\n",
    "baseline.summary()"
   ]
  },
  {
   "cell_type": "markdown",
   "metadata": {
    "colab_type": "text",
    "id": "EJrbh3qryi4w"
   },
   "source": [
    "### Additional Written Tasks:\n",
    "In this section, you will need to search for resources: \n",
    "1. Investigate the various [loss functions](https://www.tensorflow.org/api_docs/python/tf/keras/losses). Which is best suited for the task at hand (predicting 1 / 0) and why? \n",
    "\n",
    "    - `binary_crossentropy` is suited for predicting 1/0 because this loss function is used when there are only two label classes.\n",
    "    \n",
    "\n",
    "2. What is the difference between a loss function and a metric? Why might we need both in Keras?\n",
    "\n",
    "    - A loss function is used by the optimizer and is minimized while the model is being trained.\n",
    "    - A metric is used to evaluate the performance of a model.\n",
    "    \n",
    "\n",
    "3. Investigate the various [optimizers](https://www.tensorflow.org/api_docs/python/tf/keras/optimizers). Stochastic Gradient Descent (`sgd`) is not the learning algorithm dejour anyone. Why is that? What do newer optimizers such as `adam` have to offer? \n",
    "\n",
    "    - Adam applies new algorithms to Stochastic Gradient Descent: Momentum and Adaptive Learning Rates, to converge faster. \n",
    "    - Momentum - the element of time is taken into consideration in the equation for updating parameters in a neural network.\n",
    "    - Adaptive Learning Rate - step size decreases over time as the model is being trained.  This enables the algorithm to move faster initially and as the learning rate decays, the step size decreases, allowing us to converge faster, ensuring that we don't overstep local minima with large steps."
   ]
  },
  {
   "cell_type": "markdown",
   "metadata": {
    "colab_type": "text",
    "id": "Gzs4fd-RynDd"
   },
   "source": [
    "## Stretch Goals: \n",
    "\n",
    "- Research convolutional neural networks and try including convolution layers in your network.\n",
    "- Pick two classes and make QuickDraw a binary classification problem, how does your model architecture change?\n",
    "- Implement Cross Validation model evaluation on your Quickdraw implementation \n",
    "\n",
    "Watch some more videos on Gradient Descent:\n",
    "- [Gradient Descent, Step-by-Step](https://www.youtube.com/watch?v=sDv4f4s2SB8)  by StatQuest w/ Josh Starmer. This will help you understand the gradient descent based optimization that happens underneath the hood of neural networks. It uses a non-neural network example, which I believe is a gentler introduction. You will hear me refer to this technique as \"vanilla\" gradient descent. \n",
    "- [Stochastic Gradient Descent, Clearly Explained!!!](https://www.youtube.com/watch?v=vMh0zPT0tLI) by StatQuest w/ Josh Starmer. This builds on the techniques in the previous video.  This technique is the one that is actually implemented inside modern 'nets. \n",
    "- [Siraj Raval the evolution of gradient descent](https://www.youtube.com/watch?v=nhqo0u1a6fw)"
   ]
  },
  {
   "cell_type": "code",
   "execution_count": null,
   "metadata": {},
   "outputs": [],
   "source": []
  }
 ],
 "metadata": {
  "accelerator": "GPU",
  "colab": {
   "collapsed_sections": [],
   "name": "LS_DS_432_TensorFlow_Assignment",
   "provenance": []
  },
  "kernelspec": {
   "display_name": "U4-S2-NN",
   "language": "python",
   "name": "u4-s2-nn"
  },
  "language_info": {
   "codemirror_mode": {
    "name": "ipython",
    "version": 3
   },
   "file_extension": ".py",
   "mimetype": "text/x-python",
   "name": "python",
   "nbconvert_exporter": "python",
   "pygments_lexer": "ipython3",
   "version": "3.7.0"
  }
 },
 "nbformat": 4,
 "nbformat_minor": 4
}
